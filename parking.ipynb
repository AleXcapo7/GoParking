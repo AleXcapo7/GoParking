{
 "cells": [
  {
   "cell_type": "code",
   "execution_count": null,
   "metadata": {},
   "outputs": [
    {
     "data": {
      "text/plain": [
       "'ciao'"
      ]
     },
     "execution_count": 1,
     "metadata": {},
     "output_type": "execute_result"
    }
   ],
   "source": [
    "parking = {\n",
    "    \n",
    "}"
   ]
  },
  {
   "cell_type": "code",
   "execution_count": null,
   "metadata": {},
   "outputs": [],
   "source": [
    "##vogliamo softw che: accetti auto all'ingresso\n",
    "#prendendo targa e orario ingresso \n",
    "#indica il piano (tutte le panda vanno al 5 piano fino a riempimento)\n",
    "#chiede il brand\n",
    "\n",
    "#lascia uscire la macchina:\n",
    "#calcola totale dovuto fino a ora completa\n",
    "#aggiorna il database\n"
   ]
  },
  {
   "cell_type": "code",
   "execution_count": 2,
   "metadata": {},
   "outputs": [],
   "source": [
    "from datetime import datetime"
   ]
  },
  {
   "cell_type": "markdown",
   "metadata": {},
   "source": [
    "# GoParking\n",
    "### Goditi la città, noi pensiamo al resto\n",
    "Vogliamo un software che:\n",
    "- accetti auto **all'ingresso**\n",
    "    - prende la targa\n",
    "    - l'orario d'ingresso\n",
    "    - chieda il brand\n",
    "    - indichi un piano (tutte le panda vanno al 5° piano fino a riempimento)\n",
    "- **lasci uscire** la macchina\n",
    "    - calcola il totale dovuto fino ad ora completata\n",
    "- **aggiorni** il suo 'Database'"
   ]
  },
  {
   "cell_type": "code",
   "execution_count": 41,
   "metadata": {},
   "outputs": [],
   "source": [
    "parking = {\n",
    "    '1': {'max_capacity':20,\n",
    "          'cars_in': 7,\n",
    "          'price_per_hour': 2.5,\n",
    "          'brands':'all'},\n",
    "    '2': {'max_capacity':15, 'cars_in': 4, 'price_per_hour': 3.0, 'brands':'all'},\n",
    "    '3': {'max_capacity':10, 'cars_in': 2, 'price_per_hour': 4.0, 'brands':'all'},\n",
    "    '4': {'max_capacity':25, 'cars_in': 10, 'price_per_hour': 1.5, 'brands':'all'},\n",
    "    '5': {'max_capacity':20, 'cars_in': 15, 'price_per_hour': 7.0 , 'brands':'panda 4x4'},\n",
    "}"
   ]
  },
  {
   "cell_type": "code",
   "execution_count": 42,
   "metadata": {},
   "outputs": [],
   "source": [
    "cars = {'CA385NN': {'ingresso':  datetime.strptime('14:40', \"%H:%M\"), 'piano': '1'},\n",
    "        'CA123NN': {'ingresso':  datetime.strptime('14:50', \"%H:%M\"), 'piano': '2'},\n",
    "        'CA456NN': {'ingresso':  datetime.strptime('14:55', \"%H:%M\"), 'piano': '3'},\n",
    "        'CA789NN': {'ingresso':  datetime.strptime('15:00', \"%H:%M\"), 'piano': '4'},\n",
    "        'CA101NN': {'ingresso':  datetime.strptime('15:05', \"%H:%M\"), 'piano': '5'},\n",
    "        'CA112NN': {'ingresso':  datetime.strptime('15:10', \"%H:%M\"), 'piano': '1'},\n",
    "        'CA123NN': {'ingresso':  datetime.strptime('15:15', \"%H:%M\"), 'piano': '2'},\n",
    "        'CA456NN': {'ingresso':  datetime.strptime('15:25', \"%H:%M\"), 'piano': '3'},\n",
    "        'CA789NN': {'ingresso':  datetime.strptime('15:30', \"%H:%M\"), 'piano': '4'},\n",
    "        'CA101NN': {'ingresso':  datetime.strptime('15:35', \"%H:%M\"), 'piano': '5'}\n",
    "}"
   ]
  },
  {
   "cell_type": "code",
   "execution_count": 43,
   "metadata": {},
   "outputs": [],
   "source": [
    "answer = input('Entri o esci? yes/no')\n"
   ]
  },
  {
   "cell_type": "code",
   "execution_count": 44,
   "metadata": {},
   "outputs": [],
   "source": [
    "def check_availability():\n",
    "\n",
    "    available_spots = 0\n",
    "    for level in parking:\n",
    "       \n",
    "       available_spots += parking[level]['max_capacity']-parking[level]['cars_in']\n",
    "       if available_spots > 0:\n",
    "           return True \n",
    "           \n",
    "        "
   ]
  },
  {
   "cell_type": "code",
   "execution_count": 45,
   "metadata": {},
   "outputs": [],
   "source": [
    "def check_availability_():\n",
    "\n",
    "    available_spots = 0\n",
    "    for level in parking:\n",
    "       \n",
    "       available_spots += parking[level]['max_capacity']-parking[level]['cars_in']\n",
    "       if available_spots > 0:\n",
    "           return True \n",
    "           "
   ]
  },
  {
   "cell_type": "code",
   "execution_count": 46,
   "metadata": {},
   "outputs": [],
   "source": [
    "brand_car = input('Hai una Panda 4x4?')\n"
   ]
  },
  {
   "cell_type": "code",
   "execution_count": 47,
   "metadata": {},
   "outputs": [],
   "source": [
    "\n",
    "if answer == 'yes':\n",
    "    availability = check_availability()\n",
    "    print(availability)\n",
    "           \n",
    "\n",
    "\n",
    "\n"
   ]
  },
  {
   "cell_type": "code",
   "execution_count": 48,
   "metadata": {},
   "outputs": [],
   "source": [
    "#crea funzione : prende input e controlla se input entra nelle risposte accettate \n",
    "#else: richiedi domanda"
   ]
  },
  {
   "cell_type": "code",
   "execution_count": 49,
   "metadata": {},
   "outputs": [],
   "source": [
    "def make_question(question, accepted_answers = ['y','n','q']):\n",
    "    answer = input(question)\n",
    "    if not answer in accepted_answers:\n",
    "        print('Non accettata la risposta')\n",
    "        answer = make_question(question, accepted_answers)\n",
    "    \n",
    "    return answer \n",
    "\n"
   ]
  },
  {
   "cell_type": "code",
   "execution_count": 50,
   "metadata": {},
   "outputs": [],
   "source": [
    "def check_panda_level():\n",
    "    available_panda_spots = parking['5']['max_capacity'] - parking['5']['cars_in']\n",
    "    return available_panda_spots > 0"
   ]
  },
  {
   "cell_type": "code",
   "execution_count": null,
   "metadata": {},
   "outputs": [
    {
     "ename": "_IncompleteInputError",
     "evalue": "incomplete input (3461966564.py, line 6)",
     "output_type": "error",
     "traceback": [
      "\u001b[1;36m  Cell \u001b[1;32mIn[51], line 6\u001b[1;36m\u001b[0m\n\u001b[1;33m    \u001b[0m\n\u001b[1;37m    ^\u001b[0m\n\u001b[1;31m_IncompleteInputError\u001b[0m\u001b[1;31m:\u001b[0m incomplete input\n"
     ]
    }
   ],
   "source": [
    "def suggest_level(panda_answer):\n",
    "    if panda_answer == 'y' and check_panda_level():\n",
    "        return '5'\n",
    "    else:\n",
    "        if parking['3']['price_per_hour'] == '4.0'\n"
   ]
  },
  {
   "cell_type": "code",
   "execution_count": null,
   "metadata": {},
   "outputs": [
    {
     "name": "stdout",
     "output_type": "stream",
     "text": [
      "puoi entrare\n"
     ]
    }
   ],
   "source": [
    "answer = make_question('Stai entrando?')\n",
    "if answer == 'y':\n",
    "   # check available spots \n",
    "   if check_availability():\n",
    "      # Check Panda \n",
    "      answer = make_question('Hai una panda?')\n",
    "      if answer == 'y' and check_panda_level():\n",
    "         pass\n",
    "         # TODO : Suggerire 5° piano \n",
    "\n",
    "         \n",
    "         \n",
    "         \n"
   ]
  },
  {
   "cell_type": "code",
   "execution_count": null,
   "metadata": {},
   "outputs": [],
   "source": []
  }
 ],
 "metadata": {
  "kernelspec": {
   "display_name": "Python 3",
   "language": "python",
   "name": "python3"
  },
  "language_info": {
   "codemirror_mode": {
    "name": "ipython",
    "version": 3
   },
   "file_extension": ".py",
   "mimetype": "text/x-python",
   "name": "python",
   "nbconvert_exporter": "python",
   "pygments_lexer": "ipython3",
   "version": "3.13.0"
  }
 },
 "nbformat": 4,
 "nbformat_minor": 2
}
